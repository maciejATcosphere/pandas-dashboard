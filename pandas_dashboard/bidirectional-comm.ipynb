{
 "metadata": {
  "name": ""
 },
 "nbformat": 3,
 "nbformat_minor": 0,
 "worksheets": [
  {
   "cells": [
    {
     "cell_type": "code",
     "collapsed": false,
     "input": [
      "from IPython.kernel.comm import Comm\n",
      "from IPython.core.getipython import get_ipython\n",
      "import sys"
     ],
     "language": "python",
     "metadata": {},
     "outputs": [],
     "prompt_number": 1
    },
    {
     "cell_type": "code",
     "collapsed": false,
     "input": [
      "# class RPC(object):\n",
      "#     \"\"\"An object whose methods are exposed via RPC\"\"\"\n",
      "    \n",
      "#     def __init__(self, comm):\n",
      "#         self.comm = comm\n",
      "#         self.comm.on_msg(self.handler)\n",
      "    \n",
      "#     def add(self, a, b):\n",
      "#         return a + b\n",
      "    \n",
      "#     def mul(self, x, y):\n",
      "#         return x * y\n",
      "    \n",
      "#     def get_execution_count(self):\n",
      "#         print >> sys.__stderr__, get_ipython().execution_count\n",
      "#         return get_ipython().execution_count\n",
      "    \n",
      "#     def handler(self, data):\n",
      "#         \"\"\"this implements RPC\"\"\"\n",
      "#         print >> sys.__stderr__, \"WHERE IS THE MESSAGE!\"\n",
      "#         method = getattr(self, data['method'])\n",
      "#         args = data.get('args', ())\n",
      "#         kwargs = data.get('kwargs', {})\n",
      "#         result = method(*args, **kwargs)\n",
      "#         self.comm.send(dict(result=result, method=data['method']))\n",
      "\n",
      "\n",
      "# def g(*args, **kwargs):\n",
      "#     print >> sys.__stderr__, \"handler\"\n",
      "#     print >> sys.__stderr__, args, kwargs\n",
      "#     #     comm.send(dict(hello='World'))\n",
      "#     print \"handler\"\n",
      "#     print args\n",
      "#     print kwargs\n",
      "        \n",
      "# def f(comm, *args, **kwargs):\n",
      "#     comm.on_msg(g)\n",
      "#     #     comm = comm\n",
      "#     print >> sys.__stderr__, \"Macio\"\n",
      "#     print >> sys.__stderr__, comm\n",
      "#     print >> sys.__stderr__, args, kwargs\n",
      "\n",
      "#     print \"Macio\"\n",
      "#     print args\n",
      "#     print kwargs\n",
      "\n",
      "target = 'rpc29'\n",
      "class RPC(object):\n",
      "    def __init__(self, comm, *args, **kwargs):\n",
      "        comm.on_msg(self.handler)\n",
      "        self.comm = comm\n",
      "        print >> sys.__stderr__, \"---------------INIT---------------\"\n",
      "        print >> sys.__stderr__, comm\n",
      "        print >> sys.__stderr__, args\n",
      "        \n",
      "    def handler(self, *args, **kwargs):\n",
      "        print >> sys.__stderr__, \"-------------HANDLER-------------\"\n",
      "        print >> sys.__stderr__, self.comm\n",
      "        print >> sys.__stderr__, args\n",
      "        self.comm.send(dict(hello='World'))\n",
      "            \n",
      "get_ipython().comm_manager.register_target(target, RPC)\n",
      "\n",
      "from IPython.core.display import *\n",
      "HTML('<div id=\"comm-' + target + '\">test</div>')"
     ],
     "language": "python",
     "metadata": {},
     "outputs": [
      {
       "html": [
        "<div id=\"comm-rpc29\">test</div>"
       ],
       "metadata": {},
       "output_type": "pyout",
       "prompt_number": 63,
       "text": [
        "<IPython.core.display.HTML at 0x1767f10>"
       ]
      }
     ],
     "prompt_number": 63
    },
    {
     "cell_type": "code",
     "collapsed": false,
     "input": [
      "%%javascript\n",
      "var RPCProxy = function () {\n",
      "    console.log(this);\n",
      "    this.comm = new IPython.Comm(IPython.utils.uuid());\n",
      "    this.comm.target_name = 'rpc29';\n",
      "    this.comm.on_msg($.proxy(this.handler, this));\n",
      "    \n",
      "    IPython.notebook.kernel.comm_manager.register_comm(this.comm);\n",
      "    this.comm.open();\n",
      "};\n",
      "\n",
      "RPCProxy.prototype.handler = function (msg) {\n",
      "    console.log('rpc', msg.content.data);\n",
      "    $('#comm-rpc29').append(JSON.stringify(msg.content.data));\n",
      "}\n",
      "RPCProxy.prototype.add = function (a,b) {\n",
      "    this.comm.send({method : 'add', args : [a,b]});\n",
      "}\n",
      "RPCProxy.prototype.mul = function (a,b) {\n",
      "    this.comm.send({method : 'mul', args : [a,b]});\n",
      "}\n",
      "RPCProxy.prototype.get_ec = function () {\n",
      "    this.comm.send({method : 'get_execution_count'});\n",
      "}\n",
      "\n",
      "var rpc = new RPCProxy();\n",
      "rpc.add(5,3);\n",
      "setTimeout(function () { rpc.get_ec(); }, 2000);\n",
      "setTimeout(function () { rpc.mul(6,6); }, 4000);"
     ],
     "language": "python",
     "metadata": {},
     "outputs": [
      {
       "javascript": [
        "\n",
        "var RPCProxy = function () {\n",
        "    console.log(this);\n",
        "    this.comm = new IPython.Comm(IPython.utils.uuid());\n",
        "//     this.comm.target = 'rpc28';\n",
        "    this.comm.target_name = 'rpc29';\n",
        "    this.comm.on_msg($.proxy(this.handler, this));\n",
        "    \n",
        "    IPython.notebook.kernel.comm_manager.register_comm(this.comm);\n",
        "    this.comm.open();\n",
        "};\n",
        "\n",
        "RPCProxy.prototype.handler = function (msg) {\n",
        "    console.log('rpc', msg.content.data);\n",
        "    $('#comm-rpc29').append(JSON.stringify(msg.content.data));\n",
        "}\n",
        "RPCProxy.prototype.add = function (a,b) {\n",
        "    this.comm.send({method : 'add', args : [a,b]});\n",
        "}\n",
        "RPCProxy.prototype.mul = function (a,b) {\n",
        "    this.comm.send({method : 'mul', args : [a,b]});\n",
        "}\n",
        "RPCProxy.prototype.get_ec = function () {\n",
        "    this.comm.send({method : 'get_execution_count'});\n",
        "}\n",
        "\n",
        "var rpc = new RPCProxy();\n",
        "rpc.add(5,3);\n",
        "setTimeout(function () { rpc.get_ec(); }, 2000);\n",
        "setTimeout(function () { rpc.mul(6,6); }, 4000);"
       ],
       "metadata": {},
       "output_type": "display_data",
       "text": [
        "<IPython.core.display.Javascript at 0x1762c90>"
       ]
      }
     ],
     "prompt_number": 64
    },
    {
     "cell_type": "code",
     "collapsed": false,
     "input": [
      "get_ipython().comm_manager.targets"
     ],
     "language": "python",
     "metadata": {},
     "outputs": [
      {
       "metadata": {},
       "output_type": "pyout",
       "prompt_number": 12,
       "text": [
        "{'rpc1': __main__.RPC,\n",
        " 'rpc2': __main__.RPC,\n",
        " 'rpc3': __main__.RPC,\n",
        " 'rpc4': __main__.RPC}"
       ]
      }
     ],
     "prompt_number": 12
    }
   ],
   "metadata": {}
  }
 ]
}