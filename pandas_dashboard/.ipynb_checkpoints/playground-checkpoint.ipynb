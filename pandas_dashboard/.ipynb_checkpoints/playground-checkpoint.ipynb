{
 "metadata": {
  "name": ""
 },
 "nbformat": 3,
 "nbformat_minor": 0,
 "worksheets": [
  {
   "cells": [
    {
     "cell_type": "code",
     "collapsed": false,
     "input": [
      "import pandas as pd\n",
      "from pandas import DataFrame, Series\n",
      "import numpy as np\n",
      "\n",
      "from IPython.display import *\n",
      "from IPython.kernel.comm import Comm, CommManager\n",
      "from IPython.core.getipython import get_ipython\n",
      "import sys"
     ],
     "language": "python",
     "metadata": {},
     "outputs": [],
     "prompt_number": 1
    },
    {
     "cell_type": "code",
     "collapsed": false,
     "input": [
      "DATA_SIZE = 1000\n",
      "raw_data = {\n",
      "    \"impressions\": np.random.randint(0, 200, size=DATA_SIZE),\n",
      "    \"platform\": np.random.choice([\"IPhone\", \"Android\", \"IPad\", \"Desktop\"], \n",
      "        DATA_SIZE, p=[0.65, 0.2, 0.1, 0.05]),\n",
      "    \"installs\": np.random.randint(10, 100, size=DATA_SIZE),\n",
      "    \"clicks\": np.random.randint(0, 50, size=DATA_SIZE),\n",
      "    \"game\": np.random.choice([\"Lord of the Loo\", \"Catch Santa\", \"Hitchhiker\"], \n",
      "        DATA_SIZE, p=[0.1, 0.6, 0.3]),\n",
      "    \"type\": np.random.choice([\"direct\", \"indirect\", \"kicking\",\n",
      "            \"knocking\", \"email\", \"letter\", \"pigeon\", \"Ondrej\"], \n",
      "        DATA_SIZE, p=[0.2, 0.3, 0.05, 0.05, 0.05, 0.15, 0.1, 0.1]),\n",
      "    \"spend\": np.round(100 * np.random.random(size=DATA_SIZE), 2),\n",
      "}\n",
      "\n",
      "df = DataFrame(raw_data)\n",
      "df[\"CPI\"] = df[\"spend\"] / df[\"installs\"]"
     ],
     "language": "python",
     "metadata": {},
     "outputs": [],
     "prompt_number": 2
    },
    {
     "cell_type": "code",
     "collapsed": false,
     "input": [
      "from d3vis import Dashboard\n",
      "d = Dashboard(df)\n",
      "d"
     ],
     "language": "python",
     "metadata": {},
     "outputs": [
      {
       "html": [
        "\n",
        "            <div id='btns-1388934992_25'>\n",
        "            <div class=\"btn-group\" id=\"btn-save-1388934992_25\">\n",
        "                <button class=\"btn\" title=\"Save dashboard\">\n",
        "                    <i class=\"icon-save\"></i>\n",
        "                </button>\n",
        "            </div>\n",
        "            <div class=\"btn-group\">\n",
        "                <button class=\"btn\" title=\"Go to fullscreen view\">\n",
        "                    <i class=\"icon-fullscreen\"></i>\n",
        "                </button>\n",
        "            </div>\n",
        "            <div class=\"btn-group\" id=\"btn-apply-1388934992_25\">\n",
        "                <button class=\"btn\" title=\"Apply filters\">\n",
        "                    <i class=\"icon-play\"></i>\n",
        "                </button>\n",
        "            </div>\n",
        "            <!--<div class=\"btn-group\">\n",
        "                <button class=\"btn\" title=\"Remove chart\">\n",
        "                    <i class=\"icon-remove\"></i>\n",
        "                </button>\n",
        "            </div>-->\n",
        "        </div>\n",
        "            <div><svg id=\"area_0_1388934992-26\"></svg><svg id=\"area_1_1388934992-27\"></svg><svg id=\"area_2_1388934992-29\"></svg><svg id=\"pie_3_1388934992-29\"></svg><svg id=\"pie_4_1388934992-3\"></svg><svg id=\"area_5_1388934992-3\"></svg><svg id=\"bar_6_1388934992-31\"></svg><svg id=\"area_7_1388934992-32\"></svg></div>\n",
        "            <script>\n",
        "                window.filter1388934992_25={};\n",
        "                /*window.charts_map1388934992_25={ js };*/\n",
        "                \n",
        "            var CommBroker1388934992_25 = function () {\n",
        "                console.log(this);\n",
        "                this.comm = new IPython.Comm(IPython.utils.uuid());\n",
        "                this.comm.target_name = 'target1388934992_25';\n",
        "                this.comm.on_msg($.proxy(this.handler, this));\n",
        "                this.dashboard_id = \"1388934992_25\";\n",
        "\n",
        "                IPython.notebook.kernel.comm_manager.register_comm(this.comm);\n",
        "                this.comm.open();\n",
        "            };\n",
        "\n",
        "            CommBroker1388934992_25.prototype.handler = function (msg) {\n",
        "                console.log('from py', msg.content.data);\n",
        "                //$('#comm-rpc29').append(JSON.stringify(msg.content.data));\n",
        "            }\n",
        "\n",
        "            var cb = new CommBroker1388934992_25();\n",
        "            console.log('#btn-apply-1388934992_25');\n",
        "            console.log($('#btn-apply-1388934992_25'));\n",
        "\n",
        "            $('#btn-apply-1388934992_25').bind('click', function (e) {\n",
        "                console.log('button apply clicked');\n",
        "                cb.comm.send(window['filter1388934992_25']);\n",
        "            });\n",
        "        \n",
        "            </script>\n",
        "        "
       ],
       "metadata": {},
       "output_type": "pyout",
       "prompt_number": 3,
       "text": [
        "<d3vis.Dashboard at 0x3121750>"
       ]
      }
     ],
     "prompt_number": 3
    },
    {
     "cell_type": "code",
     "collapsed": false,
     "input": [
      "filter_ = d._filter\n",
      "d.dataframe().count()"
     ],
     "language": "python",
     "metadata": {},
     "outputs": [
      {
       "metadata": {},
       "output_type": "pyout",
       "prompt_number": 269,
       "text": [
        "clicks         313\n",
        "game           313\n",
        "impressions    313\n",
        "installs       313\n",
        "platform       313\n",
        "spend          313\n",
        "type           313\n",
        "CPI            313\n",
        "dtype: int64"
       ]
      }
     ],
     "prompt_number": 269
    },
    {
     "cell_type": "code",
     "collapsed": false,
     "input": [
      "df2 = DataFrame({'a': [1,2,3, 6], 'b': ['ad', 'ad', 'af', 'ag']})\n",
      "df2[df2['b'].isin(['ad', 'af'])]"
     ],
     "language": "python",
     "metadata": {},
     "outputs": [
      {
       "html": [
        "<div style=\"max-height:1000px;max-width:1500px;overflow:auto;\">\n",
        "<table border=\"1\" class=\"dataframe\">\n",
        "  <thead>\n",
        "    <tr style=\"text-align: right;\">\n",
        "      <th></th>\n",
        "      <th>a</th>\n",
        "      <th>b</th>\n",
        "    </tr>\n",
        "  </thead>\n",
        "  <tbody>\n",
        "    <tr>\n",
        "      <th>0</th>\n",
        "      <td> 1</td>\n",
        "      <td> ad</td>\n",
        "    </tr>\n",
        "    <tr>\n",
        "      <th>1</th>\n",
        "      <td> 2</td>\n",
        "      <td> ad</td>\n",
        "    </tr>\n",
        "    <tr>\n",
        "      <th>2</th>\n",
        "      <td> 3</td>\n",
        "      <td> af</td>\n",
        "    </tr>\n",
        "  </tbody>\n",
        "</table>\n",
        "</div>"
       ],
       "metadata": {},
       "output_type": "pyout",
       "prompt_number": 255,
       "text": [
        "   a   b\n",
        "0  1  ad\n",
        "1  2  ad\n",
        "2  3  af"
       ]
      }
     ],
     "prompt_number": 255
    }
   ],
   "metadata": {}
  }
 ]
}