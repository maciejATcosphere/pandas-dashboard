{
 "metadata": {
  "name": ""
 },
 "nbformat": 3,
 "nbformat_minor": 0,
 "worksheets": [
  {
   "cells": [
    {
     "cell_type": "code",
     "collapsed": false,
     "input": [
      "import pandas as pd\n",
      "from pandas import DataFrame\n",
      "import numpy as np"
     ],
     "language": "python",
     "metadata": {},
     "outputs": [],
     "prompt_number": 137
    },
    {
     "cell_type": "code",
     "collapsed": false,
     "input": [
      "DATA_SIZE = 1000\n",
      "raw_data = {\n",
      "    \"impressions\": np.random.randint(0, 10000, size=DATA_SIZE),\n",
      "    \"platform\": np.random.choice([\"IPhone\", \"Android\", \"IPad\", \"Desktop\"], \n",
      "        DATA_SIZE, p=[0.65, 0.2, 0.1, 0.05]),\n",
      "    \"installs\": np.random.randint(0, 1000, size=DATA_SIZE),\n",
      "    \"clicks\": np.random.randint(0, 10000, size=DATA_SIZE),\n",
      "    \"game\": np.random.choice([\"Lord of the Loo\", \"Catch Santa\", \"Hitchhiker\"], \n",
      "        DATA_SIZE, p=[0.1, 0.6, 0.3]),\n",
      "    \"type\": np.random.choice([\"direct\", \"not so direct\", \"door kicking\",\n",
      "            \"door knocking\", \"email sending\", \"letter sending\", \"pigeon sending\",\n",
      "            \"sending Ondrej\"], \n",
      "        DATA_SIZE, p=[0.2, 0.3, 0.05, 0.05, 0.05, 0.15, 0.1, 0.1]),\n",
      "    \"spend\": np.round(100 * np.random.random(size=DATA_SIZE), 2),\n",
      "}\n",
      "\n",
      "df = DataFrame(raw_data)\n",
      "df[\"CPI\"] = df[\"spend\"] / df[\"installs\"]"
     ],
     "language": "python",
     "metadata": {},
     "outputs": [],
     "prompt_number": 138
    },
    {
     "cell_type": "code",
     "collapsed": false,
     "input": [
      "df.head()"
     ],
     "language": "python",
     "metadata": {},
     "outputs": [
      {
       "html": [
        "<div style=\"max-height:1000px;max-width:1500px;overflow:auto;\">\n",
        "<table border=\"1\" class=\"dataframe\">\n",
        "  <thead>\n",
        "    <tr style=\"text-align: right;\">\n",
        "      <th></th>\n",
        "      <th>clicks</th>\n",
        "      <th>game</th>\n",
        "      <th>impressions</th>\n",
        "      <th>installs</th>\n",
        "      <th>platform</th>\n",
        "      <th>spend</th>\n",
        "      <th>type</th>\n",
        "      <th>CPI</th>\n",
        "    </tr>\n",
        "  </thead>\n",
        "  <tbody>\n",
        "    <tr>\n",
        "      <th>0</th>\n",
        "      <td> 7764</td>\n",
        "      <td>  Hitchhiker</td>\n",
        "      <td> 9124</td>\n",
        "      <td> 427</td>\n",
        "      <td>  IPhone</td>\n",
        "      <td> 73.72</td>\n",
        "      <td>  email sending</td>\n",
        "      <td> 0.172646</td>\n",
        "    </tr>\n",
        "    <tr>\n",
        "      <th>1</th>\n",
        "      <td> 6474</td>\n",
        "      <td> Catch Santa</td>\n",
        "      <td> 2099</td>\n",
        "      <td> 512</td>\n",
        "      <td>  IPhone</td>\n",
        "      <td> 74.54</td>\n",
        "      <td>  not so direct</td>\n",
        "      <td> 0.145586</td>\n",
        "    </tr>\n",
        "    <tr>\n",
        "      <th>2</th>\n",
        "      <td> 4080</td>\n",
        "      <td> Catch Santa</td>\n",
        "      <td> 5334</td>\n",
        "      <td> 659</td>\n",
        "      <td>    IPad</td>\n",
        "      <td> 41.83</td>\n",
        "      <td>         direct</td>\n",
        "      <td> 0.063475</td>\n",
        "    </tr>\n",
        "    <tr>\n",
        "      <th>3</th>\n",
        "      <td> 3291</td>\n",
        "      <td> Catch Santa</td>\n",
        "      <td> 3787</td>\n",
        "      <td> 777</td>\n",
        "      <td> Desktop</td>\n",
        "      <td> 95.11</td>\n",
        "      <td> letter sending</td>\n",
        "      <td> 0.122407</td>\n",
        "    </tr>\n",
        "    <tr>\n",
        "      <th>4</th>\n",
        "      <td>  763</td>\n",
        "      <td>  Hitchhiker</td>\n",
        "      <td> 8525</td>\n",
        "      <td>  20</td>\n",
        "      <td>  IPhone</td>\n",
        "      <td> 92.35</td>\n",
        "      <td>         direct</td>\n",
        "      <td> 4.617500</td>\n",
        "    </tr>\n",
        "  </tbody>\n",
        "</table>\n",
        "</div>"
       ],
       "metadata": {},
       "output_type": "pyout",
       "prompt_number": 139,
       "text": [
        "   clicks         game  impressions  installs platform  spend            type  \\\n",
        "0    7764   Hitchhiker         9124       427   IPhone  73.72   email sending   \n",
        "1    6474  Catch Santa         2099       512   IPhone  74.54   not so direct   \n",
        "2    4080  Catch Santa         5334       659     IPad  41.83          direct   \n",
        "3    3291  Catch Santa         3787       777  Desktop  95.11  letter sending   \n",
        "4     763   Hitchhiker         8525        20   IPhone  92.35          direct   \n",
        "\n",
        "        CPI  \n",
        "0  0.172646  \n",
        "1  0.145586  \n",
        "2  0.063475  \n",
        "3  0.122407  \n",
        "4  4.617500  "
       ]
      }
     ],
     "prompt_number": 139
    },
    {
     "cell_type": "code",
     "collapsed": false,
     "input": [
      "from IPython.display import *\n",
      "from IPython.kernel.comm import Comm\n",
      "import sys"
     ],
     "language": "python",
     "metadata": {},
     "outputs": [],
     "prompt_number": 27
    },
    {
     "cell_type": "code",
     "collapsed": false,
     "input": [
      "%%javascript\n",
      "var TestWidget = function (comm) {\n",
      "    this.comm = comm;\n",
      "    this.comm.on_msg($.proxy(this.handler, this));\n",
      "    // get the cell that was probably executed\n",
      "    // msg_id:cell mapping will make this possible without guessing\n",
      "    this.cell = IPython.notebook.get_cell(IPython.notebook.get_selected_index()-1);\n",
      "    this.callbacks = {\n",
      "        iopub : {\n",
      "            output : $.proxy(this.cell.output_area.handle_output, this.cell.output_area)\n",
      "        }\n",
      "    };\n",
      "};\n",
      "\n",
      "TestWidget.prototype.handler = function(msg) {\n",
      "    //console.log('handle', this, msg, this.cell.output_area);\n",
      "    console.log('handle', msg.content.data);\n",
      "    window.cell = this.cell.output_area;\n",
      "//     window.cell.selector.append('<h2>Heppy new year</h2>')\n",
      "    this.comm.send({ b:10 }, this.callbacks);\n",
      "};\n",
      "\n",
      "IPython.notebook.kernel.comm_manager.register_target('test', IPython.utils.always_new(TestWidget));"
     ],
     "language": "python",
     "metadata": {},
     "outputs": [
      {
       "javascript": [
        "\n",
        "var TestWidget = function (comm) {\n",
        "    this.comm = comm;\n",
        "    this.comm.on_msg($.proxy(this.handler, this));\n",
        "    // get the cell that was probably executed\n",
        "    // msg_id:cell mapping will make this possible without guessing\n",
        "    this.cell = IPython.notebook.get_cell(IPython.notebook.get_selected_index()-1);\n",
        "    this.callbacks = {\n",
        "        iopub : {\n",
        "            output : $.proxy(this.cell.output_area.handle_output, this.cell.output_area)\n",
        "        }\n",
        "    };\n",
        "};\n",
        "\n",
        "TestWidget.prototype.handler = function(msg) {\n",
        "    //console.log('handle', this, msg, this.cell.output_area);\n",
        "    console.log('handle', msg.content.data);\n",
        "    window.cell = this.cell.output_area;\n",
        "//     window.cell.selector.append('<h2>Heppy new year</h2>')\n",
        "    this.comm.send({ b:10 }, this.callbacks);\n",
        "};\n",
        "\n",
        "IPython.notebook.kernel.comm_manager.register_target('test', IPython.utils.always_new(TestWidget));"
       ],
       "metadata": {},
       "output_type": "display_data",
       "text": [
        "<IPython.core.display.Javascript at 0x30ce890>"
       ]
      }
     ],
     "prompt_number": 28
    },
    {
     "cell_type": "code",
     "collapsed": false,
     "input": [
      "comm = Comm(target_name='test')"
     ],
     "language": "python",
     "metadata": {},
     "outputs": [],
     "prompt_number": 9
    },
    {
     "cell_type": "code",
     "collapsed": false,
     "input": [
      "def handler(msg):\n",
      "    HTML(\"<h2>hello</h2>\")\n",
      "#     print >> sys.__stderr__, msg\n",
      "#     print msg\n",
      "\n",
      "comm.on_msg(handler)"
     ],
     "language": "python",
     "metadata": {},
     "outputs": [],
     "prompt_number": 22
    },
    {
     "cell_type": "code",
     "collapsed": false,
     "input": [
      "comm.send(dict(a=5))"
     ],
     "language": "python",
     "metadata": {},
     "outputs": [],
     "prompt_number": 23
    },
    {
     "cell_type": "code",
     "collapsed": false,
     "input": [
      "import json\n",
      "\n",
      "class Dashboard(object):\n",
      "    \n",
      "    def __init__(self, df):\n",
      "        self.df = df\n",
      "                        \n",
      "    def _repr_html_(self):\n",
      "        grouped = df.groupby('platform').count()\n",
      "        data_js =  self._get_data_for_series_js(grouped['CPI'])\n",
      "#         data_js =  self._get_data_for_series_js(df['spend'])\n",
      "#         print list(df['spend'].iteritems())[:10]\n",
      "        return \"\"\"\n",
      "            <div><svg id=\"{id}\"></svg></div>\n",
      "            <script type=\"text/javascript\">\n",
      "                bar({data}, \"{id}\");\n",
      "            </script>\n",
      "        \"\"\".format(data=data_js, id=\"area_chart\")\n",
      "\n",
      "    def _get_data_for_series_js(self, series):\n",
      "        data = list(series.iteritems())\n",
      "        return json.dumps(data)\n",
      "    \n",
      "Dashboard(df)"
     ],
     "language": "python",
     "metadata": {},
     "outputs": [
      {
       "html": [
        "\n",
        "            <div><svg id=\"area_chart\"></svg></div>\n",
        "            <script type=\"text/javascript\">\n",
        "                bar([[\"Android\", 189], [\"Desktop\", 43], [\"IPad\", 112], [\"IPhone\", 656]], \"area_chart\");\n",
        "            </script>\n",
        "        "
       ],
       "metadata": {},
       "output_type": "pyout",
       "prompt_number": 140,
       "text": [
        "<__main__.Dashboard at 0x35e7c10>"
       ]
      }
     ],
     "prompt_number": 140
    },
    {
     "cell_type": "code",
     "collapsed": false,
     "input": [
      "LINE_CHART = 1\n",
      "PIE_CHART = 2\n",
      "BAR_CHART = 3\n",
      "\n",
      "PIE_CHART_THRESHOLD = 5\n",
      "BAR_CHART_THRESHOLD = 10\n",
      "\n",
      "def map_type(unique_count, type_):\n",
      "    if unique_count <= PIE_CHART_THRESHOLD:\n",
      "        return PIE_CHART\n",
      "    elif unique_count <= BAR_CHART_THRESHOLD:\n",
      "        return BAR_CHART\n",
      "    else:\n",
      "        return LINE_CHART\n",
      "\n",
      "charts = {}    \n",
      "for column, type_ in df.dtypes.iteritems():\n",
      "    unique_count = len(df[column].unique())\n",
      "    charts[column] = map_type(unique_count, type_)\n",
      "\n",
      "charts"
     ],
     "language": "python",
     "metadata": {
      "slideshow": {
       "slide_type": "slide"
      }
     },
     "outputs": [
      {
       "metadata": {},
       "output_type": "pyout",
       "prompt_number": 76,
       "text": [
        "{'CPI': 1,\n",
        " 'clicks': 1,\n",
        " 'game': 2,\n",
        " 'impressions': 1,\n",
        " 'installs': 1,\n",
        " 'platform': 2,\n",
        " 'spend': 1,\n",
        " 'type': 3}"
       ]
      }
     ],
     "prompt_number": 76
    },
    {
     "cell_type": "markdown",
     "metadata": {},
     "source": [
      "## Plotting rules:\n",
      "1. Find all categorial data and plot them as pie charts (value is count) or bar chart (value is count)\n",
      "2. Plot all numerical data as area chart (using sampling if necessary)\n"
     ]
    }
   ],
   "metadata": {}
  }
 ]
}