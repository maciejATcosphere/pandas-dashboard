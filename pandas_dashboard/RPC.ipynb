{
 "metadata": {
  "gist_id": "6547109",
  "name": ""
 },
 "nbformat": 3,
 "nbformat_minor": 0,
 "worksheets": [
  {
   "cells": [
    {
     "cell_type": "markdown",
     "metadata": {},
     "source": [
      "These are some example widgets, built with the Comm API.\n",
      "\n",
      "First, is a simple Range, hooking up change events on traits to a slider in Javascript."
     ]
    },
    {
     "cell_type": "code",
     "collapsed": false,
     "input": [
      "import sys, time\n",
      "\n",
      "from IPython.utils.traitlets import HasTraits, Integer, Unicode, Bool, Instance, Float\n",
      "from IPython.display import display\n",
      "\n",
      "from IPython.kernel.comm import Comm\n",
      "\n",
      "class RangeWidget(HasTraits):\n",
      "    \"\"\"A Widget for a value on a Range\"\"\"\n",
      "    min = Float(0)\n",
      "    max = Float(100)\n",
      "    value = Float(50)\n",
      "    step = Float(1)\n",
      "    _keys = ['min', 'max', 'value', 'step']\n",
      "    _handling = Bool(False)\n",
      "    \n",
      "    comm = Instance(Comm)\n",
      "    def _comm_default(self):\n",
      "        return Comm(target='range1', _open_data=self.data)\n",
      "    \n",
      "    def _validate_and_update(self, name, old, new):\n",
      "        if self.value > self.max:\n",
      "            raise ValueError(\"value %d exceeds max %d\" % (self.value, self.max))\n",
      "        if new < self.min:\n",
      "            raise ValueError(\"value %d below min %d\" % (self.value, self.min))\n",
      "        \n",
      "        if not self._handling:\n",
      "            self.update()\n",
      "    \n",
      "    def __init__(self, **kwargs):\n",
      "        super(RangeWidget, self).__init__(**kwargs)\n",
      "        # register on_trait_change after init\n",
      "        # otherwise default values can't be specified\n",
      "        self.on_trait_change(self._validate_and_update, self._keys)\n",
      "        # register handler on message\n",
      "        self.comm.on_msg(self.handle_msg)\n",
      "    \n",
      "    @property\n",
      "    def data(self):\n",
      "        return dict((key, getattr(self, key)) for key in self._keys)\n",
      "    \n",
      "    def update(self):\n",
      "        \"\"\"send my state to my js peer\"\"\"\n",
      "        self.comm.send(self.data)\n",
      "   \n",
      "    def __repr__(self):\n",
      "        return \"<Range (%.1f) %.1f:%.1f:%.1f>\" % (self.value, self.min, self.max, self.step)\n",
      "    \n",
      "    def handle_msg(self, data):\n",
      "        self._handling = True\n",
      "        try:\n",
      "            for key in self._keys:\n",
      "                if key in data:\n",
      "                    setattr(self, key, data[key])\n",
      "        finally:\n",
      "            self._handling = False\n",
      "        sys.stdout.write('\\r%s' % self)\n",
      "        sys.stdout.flush()\n",
      "    \n",
      "    def display(self):\n",
      "        display(self)\n",
      "        self.update()\n",
      "    \n",
      "    def _repr_html_(self):\n",
      "        return \"\"\"<div class=\"%s\"></div>\"\"\" % self.comm.comm_id\n"
     ],
     "language": "python",
     "metadata": {},
     "outputs": [],
     "prompt_number": 9
    },
    {
     "cell_type": "markdown",
     "metadata": {},
     "source": [
      "The Javascript side"
     ]
    },
    {
     "cell_type": "code",
     "collapsed": false,
     "input": [
      "%%javascript\n",
      "var RangeWidget = function (comm) {\n",
      "    this.comm = comm;\n",
      "    this.keys = ['min', 'max', 'step'];\n",
      "\n",
      "    $([this.comm]).on(\"comm_open\", $.proxy(this.handle_open, this));\n",
      "    $([this.comm]).on(\"comm_msg\", $.proxy(this.handler, this));\n",
      "};\n",
      "\n",
      "RangeWidget.prototype.get_div = function () {\n",
      "    var div = $(\"div.\" + this.comm.comm_id);\n",
      "    if (div.length === 0) {\n",
      "        return null;\n",
      "    }\n",
      "    if (div.find(\"input\").length === 0) {\n",
      "        this.create_range(div);\n",
      "    }\n",
      "    return div;\n",
      "};\n",
      "\n",
      "RangeWidget.prototype.create_range = function (thediv) {\n",
      "    var range = $('<input></input>').attr('type', 'range');\n",
      "    var data = this.data;\n",
      "    \n",
      "    for (var i=0; i < this.keys.length; i++) {\n",
      "        var key = this.keys[i];\n",
      "        range.attr(key, data[key]);\n",
      "    }\n",
      "    range.val(data.value);\n",
      "    \n",
      "    thediv.append(\n",
      "        $(\"<span/>\").addClass(\"min\").text(data.min)\n",
      "    ).append(\n",
      "        range\n",
      "    ).append(\n",
      "        $(\"<span/>\").addClass(\"max\").text(data.max)\n",
      "    ).append(\n",
      "        $(\"<br/>\")\n",
      "    ).append(\n",
      "        $(\"<span/>\").addClass(\"value\").text(data.value)\n",
      "    );\n",
      "    range.on(\"change\", $.proxy(this.value_changed, this));\n",
      "}\n",
      "\n",
      "RangeWidget.prototype.handle_open = function (evt, data) {\n",
      "    console.log('range open', this, evt, data);\n",
      "    this.data = data;\n",
      "    this.get_div();\n",
      "};\n",
      "\n",
      "RangeWidget.prototype.value_changed = function (evt) {\n",
      "    var now = new Date();\n",
      "    if (now - this.last_changed < 100) {\n",
      "        // only update every 0.1s, max\n",
      "//         return;\n",
      "    }\n",
      "    var div = this.get_div();\n",
      "    var range = div.find(\"input\");\n",
      "    var data = {};\n",
      "    for (var i=0; i < this.keys.length; i++) {\n",
      "        var key = this.keys[i];\n",
      "        data[key] = parseFloat(range.attr(key));\n",
      "    }\n",
      "    data.value = parseFloat(range.val());\n",
      "    div.find(\"span.min\").text(data.min);\n",
      "    div.find(\"span.max\").text(data.max);\n",
      "    div.find(\"span.value\").text(data.value);\n",
      "    this.comm.send(data);\n",
      "    this.last_changed = now;\n",
      "};\n",
      "\n",
      "RangeWidget.prototype.handler = function (evt, data) {\n",
      "    console.log('range update', evt, data);\n",
      "    this.data = data;\n",
      "    var div = this.get_div();\n",
      "    if (!div) {\n",
      "        return;\n",
      "    }\n",
      "    var range = div.find(\"input\");\n",
      "\n",
      "    for (var i=0; i < this.keys.length; i++) {\n",
      "        var key = this.keys[i];\n",
      "        range.attr(key, data[key]);\n",
      "    }\n",
      "    div.find(\"span.min\").text(data.min);\n",
      "    div.find(\"span.max\").text(data.max);\n",
      "    div.find(\"span.value\").text(data.value);\n",
      "    range.val(data.value);\n",
      "};\n",
      "\n",
      "var new_range = function (comm) {\n",
      "    var r = new RangeWidget(comm);\n",
      "};\n",
      "\n",
      "IPython.notebook.kernel.comm_manager.register_target('range1', function (comm) { var r = new RangeWidget(comm);});"
     ],
     "language": "python",
     "metadata": {},
     "outputs": [
      {
       "javascript": [
        "var RangeWidget = function (comm) {\n",
        "    this.comm = comm;\n",
        "    this.keys = ['min', 'max', 'step'];\n",
        "\n",
        "    $([this.comm]).on(\"comm_open\", $.proxy(this.handle_open, this));\n",
        "    $([this.comm]).on(\"comm_msg\", $.proxy(this.handler, this));\n",
        "};\n",
        "\n",
        "RangeWidget.prototype.get_div = function () {\n",
        "    var div = $(\"div.\" + this.comm.comm_id);\n",
        "    if (div.length === 0) {\n",
        "        return null;\n",
        "    }\n",
        "    if (div.find(\"input\").length === 0) {\n",
        "        this.create_range(div);\n",
        "    }\n",
        "    return div;\n",
        "};\n",
        "\n",
        "RangeWidget.prototype.create_range = function (thediv) {\n",
        "    var range = $('<input></input>').attr('type', 'range');\n",
        "    var data = this.data;\n",
        "    \n",
        "    for (var i=0; i < this.keys.length; i++) {\n",
        "        var key = this.keys[i];\n",
        "        range.attr(key, data[key]);\n",
        "    }\n",
        "    range.val(data.value);\n",
        "    \n",
        "    thediv.append(\n",
        "        $(\"<span/>\").addClass(\"min\").text(data.min)\n",
        "    ).append(\n",
        "        range\n",
        "    ).append(\n",
        "        $(\"<span/>\").addClass(\"max\").text(data.max)\n",
        "    ).append(\n",
        "        $(\"<br/>\")\n",
        "    ).append(\n",
        "        $(\"<span/>\").addClass(\"value\").text(data.value)\n",
        "    );\n",
        "    range.on(\"change\", $.proxy(this.value_changed, this));\n",
        "}\n",
        "\n",
        "RangeWidget.prototype.handle_open = function (evt, data) {\n",
        "    console.log('range open', this, evt, data);\n",
        "    this.data = data;\n",
        "    this.get_div();\n",
        "};\n",
        "\n",
        "RangeWidget.prototype.value_changed = function (evt) {\n",
        "    var now = new Date();\n",
        "    if (now - this.last_changed < 100) {\n",
        "        // only update every 0.1s, max\n",
        "//         return;\n",
        "    }\n",
        "    var div = this.get_div();\n",
        "    var range = div.find(\"input\");\n",
        "    var data = {};\n",
        "    for (var i=0; i < this.keys.length; i++) {\n",
        "        var key = this.keys[i];\n",
        "        data[key] = parseFloat(range.attr(key));\n",
        "    }\n",
        "    data.value = parseFloat(range.val());\n",
        "    div.find(\"span.min\").text(data.min);\n",
        "    div.find(\"span.max\").text(data.max);\n",
        "    div.find(\"span.value\").text(data.value);\n",
        "    this.comm.send(data);\n",
        "    this.last_changed = now;\n",
        "};\n",
        "\n",
        "RangeWidget.prototype.handler = function (evt, data) {\n",
        "    console.log('range update', evt, data);\n",
        "    this.data = data;\n",
        "    var div = this.get_div();\n",
        "    if (!div) {\n",
        "        return;\n",
        "    }\n",
        "    var range = div.find(\"input\");\n",
        "\n",
        "    for (var i=0; i < this.keys.length; i++) {\n",
        "        var key = this.keys[i];\n",
        "        range.attr(key, data[key]);\n",
        "    }\n",
        "    div.find(\"span.min\").text(data.min);\n",
        "    div.find(\"span.max\").text(data.max);\n",
        "    div.find(\"span.value\").text(data.value);\n",
        "    range.val(data.value);\n",
        "};\n",
        "\n",
        "var new_range = function (comm) {\n",
        "    var r = new RangeWidget(comm);\n",
        "};\n",
        "\n",
        "IPython.notebook.kernel.comm_manager.register_target('range1', function (comm) { var r = new RangeWidget(comm);});"
       ],
       "metadata": {},
       "output_type": "display_data",
       "text": [
        "<IPython.core.display.Javascript at 0x3075c10>"
       ]
      }
     ],
     "prompt_number": 10
    },
    {
     "cell_type": "markdown",
     "metadata": {},
     "source": [
      "Create the Python object, and register it with the WidgetManager.\n",
      "Registration triggers creation of the javascript-side counterpart."
     ]
    },
    {
     "cell_type": "code",
     "collapsed": false,
     "input": [
      "r = RangeWidget()\n",
      "r.display()"
     ],
     "language": "python",
     "metadata": {},
     "outputs": [
      {
       "html": [
        "<div class=\"e4380bd23f0c41d4830c87f61ee42e5e\"></div>"
       ],
       "metadata": {},
       "output_type": "display_data",
       "text": [
        "<Range (50.0) 0.0:100.0:1.0>"
       ]
      }
     ],
     "prompt_number": 11
    },
    {
     "cell_type": "code",
     "collapsed": false,
     "input": [
      "r.value = 5"
     ],
     "language": "python",
     "metadata": {},
     "outputs": [],
     "prompt_number": 6
    },
    {
     "cell_type": "code",
     "collapsed": false,
     "input": [
      "print r"
     ],
     "language": "python",
     "metadata": {},
     "outputs": [
      {
       "output_type": "stream",
       "stream": "stdout",
       "text": [
        "<Range (5.0) 0.0:100.0:1.0>\n"
       ]
      }
     ],
     "prompt_number": 7
    },
    {
     "cell_type": "code",
     "collapsed": false,
     "input": [
      "import math, time\n",
      "import numpy as np\n",
      "x = np.linspace(0,10,1000)\n",
      "y = 50 + (np.sin(x) * 50)\n",
      "for n in y:\n",
      "    r.value = (n)\n",
      "    time.sleep(0.005)\n",
      "    "
     ],
     "language": "python",
     "metadata": {},
     "outputs": [],
     "prompt_number": 8
    },
    {
     "cell_type": "heading",
     "level": 1,
     "metadata": {},
     "source": [
      "Now demo flot plots using Widget APIs"
     ]
    },
    {
     "cell_type": "code",
     "collapsed": false,
     "input": [
      "from IPython.utils.traitlets import List"
     ],
     "language": "python",
     "metadata": {},
     "outputs": [],
     "prompt_number": 12
    },
    {
     "cell_type": "code",
     "collapsed": false,
     "input": [
      "class FlotWidget(HasTraits):\n",
      "    lines = List()\n",
      "    comm = Instance(Comm, kw=dict(target='flotplot'))\n",
      "\n",
      "    def show(self):\n",
      "        self.comm.send(dict(lines=self.lines))\n",
      "    \n",
      "    def plot(self, x, y):\n",
      "        self.lines.append(list(zip(x,y)))\n",
      "        self.show()\n",
      "        \n",
      "    def clear(self):\n",
      "        self.lines = []\n",
      "        self.show()\n",
      "    \n",
      "    def _repr_html_(self):\n",
      "        return '<div id=\"%s\" class=\"flotwidget\"></div>' % self.comm.comm_id"
     ],
     "language": "python",
     "metadata": {},
     "outputs": [],
     "prompt_number": 13
    },
    {
     "cell_type": "code",
     "collapsed": false,
     "input": [
      "%%javascript\n",
      "$.getScript('//cdnjs.cloudflare.com/ajax/libs/flot/0.8.1/jquery.flot.min.js');\n",
      "$(\"<style type='text/css'> .flotwidget{ width: 100%; height: 300px;}</style>\").appendTo(\"head\");\n",
      "\n",
      "var FlotWidget = function (comm) {\n",
      "    this.comm = comm;\n",
      "\n",
      "    $([this.comm]).on(\"comm_msg\", $.proxy(this.handler, this));\n",
      "};\n",
      "\n",
      "FlotWidget.prototype.handler = function (evt, data) {\n",
      "    // console.log('flot', data);\n",
      "    $.plot($('#' + this.comm.comm_id), data.lines);\n",
      "}\n",
      "\n",
      "IPython.notebook.kernel.comm_manager.register_target('flotplot', function (comm) { var f = new FlotWidget(comm); console.log(f)});"
     ],
     "language": "python",
     "metadata": {},
     "outputs": [
      {
       "javascript": [
        "$.getScript('//cdnjs.cloudflare.com/ajax/libs/flot/0.8.1/jquery.flot.min.js');\n",
        "$(\"<style type='text/css'> .flotwidget{ width: 100%; height: 300px;}</style>\").appendTo(\"head\");\n",
        "\n",
        "var FlotWidget = function (comm) {\n",
        "    this.comm = comm;\n",
        "\n",
        "    $([this.comm]).on(\"comm_msg\", $.proxy(this.handler, this));\n",
        "};\n",
        "\n",
        "FlotWidget.prototype.handler = function (evt, data) {\n",
        "    // console.log('flot', data);\n",
        "    $.plot($('#' + this.comm.comm_id), data.lines);\n",
        "}\n",
        "\n",
        "IPython.notebook.kernel.comm_manager.register_target('flotplot', function (comm) { var f = new FlotWidget(comm); console.log(f)});"
       ],
       "metadata": {},
       "output_type": "display_data",
       "text": [
        "<IPython.core.display.Javascript at 0x3665450>"
       ]
      }
     ],
     "prompt_number": 15
    },
    {
     "cell_type": "code",
     "collapsed": false,
     "input": [
      "flot = FlotWidget()\n",
      "flot"
     ],
     "language": "python",
     "metadata": {},
     "outputs": [
      {
       "html": [
        "<div id=\"5c68723770ef4411b296b6fbd9ebf9d3\" class=\"flotwidget\"></div>"
       ],
       "metadata": {},
       "output_type": "pyout",
       "prompt_number": 20,
       "text": [
        "<__main__.FlotWidget at 0x3665750>"
       ]
      }
     ],
     "prompt_number": 20
    },
    {
     "cell_type": "code",
     "collapsed": false,
     "input": [
      "flot.clear()"
     ],
     "language": "python",
     "metadata": {},
     "outputs": [],
     "prompt_number": 27
    },
    {
     "cell_type": "code",
     "collapsed": false,
     "input": [
      "x = np.linspace(0,5,200)\n",
      "y = np.sin(x)\n",
      "flot.plot(x,np.sin(x))\n",
      "flot.plot(x,np.cos(x))\n"
     ],
     "language": "python",
     "metadata": {},
     "outputs": [],
     "prompt_number": 28
    },
    {
     "cell_type": "code",
     "collapsed": false,
     "input": [
      "flot.plot(x, np.sin(2*x))"
     ],
     "language": "python",
     "metadata": {},
     "outputs": [],
     "prompt_number": 29
    },
    {
     "cell_type": "heading",
     "level": 2,
     "metadata": {},
     "source": [
      "Using two widgets together"
     ]
    },
    {
     "cell_type": "code",
     "collapsed": false,
     "input": [
      "from IPython.utils.traitlets import HasTraits, Instance, Any\n",
      "\n",
      "class SineOmegaT(HasTraits):\n",
      "    omega = Instance(RangeWidget, kw=dict(min=0, max=10, step=0.1, value=1), allow_none=False)\n",
      "    flot = Instance(FlotWidget, args=())\n",
      "    # can't use traitlets with numpy arrays\n",
      "    t = None\n",
      "    y = None\n",
      "    _in_omega_changed = False\n",
      "    \n",
      "    def _omega_value_changed(self, name, old, new):\n",
      "        self.y = np.sin(new * self.t)\n",
      "        self.show()\n",
      "    \n",
      "    def __init__(self):\n",
      "        super(SineOmegaT, self).__init__()\n",
      "        self.omega.on_trait_change(self._omega_value_changed, 'value')\n",
      "        self.t = np.linspace(0,10,200)\n",
      "        self.y = np.sin(self.omega.value * self.t)\n",
      "        # add HTML to the dom\n",
      "        display(self)\n",
      "        # ensure omega slider is drawn\n",
      "        self.omega.update()\n",
      "        self.last_draw = 0\n",
      "        self.show()\n",
      "        \n",
      "    \n",
      "    def show(self):\n",
      "        now = time.time()\n",
      "        if False and (now - self.last_draw) < 0.1:\n",
      "            return\n",
      "        self.last_draw = now\n",
      "        self.flot.lines = []\n",
      "        self.flot.plot(self.t, self.y)\n",
      "    \n",
      "    def _repr_html_(self):\n",
      "        return u\"$$sin(\\omega t)$$<br>%s<br>$\\omega$: %s\" % (self.flot._repr_html_(), self.omega._repr_html_())\n",
      "    "
     ],
     "language": "python",
     "metadata": {},
     "outputs": [],
     "prompt_number": 30
    },
    {
     "cell_type": "code",
     "collapsed": false,
     "input": [
      "sino = SineOmegaT()"
     ],
     "language": "python",
     "metadata": {},
     "outputs": [
      {
       "html": [
        "$$sin(\\omega t)$$<br><div id=\"5599ed75758a4feea6f459bffcb56897\" class=\"flotwidget\"></div><br>$\\omega$: <div class=\"6fb19b8899fb42169cae7c111807a06c\"></div>"
       ],
       "metadata": {},
       "output_type": "display_data",
       "text": [
        "<__main__.SineOmegaT at 0x10971b090>"
       ]
      },
      {
       "output_type": "stream",
       "stream": "stdout",
       "text": [
        "\r",
        "<Range (1.2) 0.0:10.0:0.1>"
       ]
      },
      {
       "output_type": "stream",
       "stream": "stdout",
       "text": [
        "\r",
        "<Range (1.3) 0.0:10.0:0.1>"
       ]
      },
      {
       "output_type": "stream",
       "stream": "stdout",
       "text": [
        "\r",
        "<Range (1.6) 0.0:10.0:0.1>"
       ]
      },
      {
       "output_type": "stream",
       "stream": "stdout",
       "text": [
        "\r",
        "<Range (2.4) 0.0:10.0:0.1>"
       ]
      },
      {
       "output_type": "stream",
       "stream": "stdout",
       "text": [
        "\r",
        "<Range (2.6) 0.0:10.0:0.1>"
       ]
      },
      {
       "output_type": "stream",
       "stream": "stdout",
       "text": [
        "\r",
        "<Range (2.9) 0.0:10.0:0.1>"
       ]
      },
      {
       "output_type": "stream",
       "stream": "stdout",
       "text": [
        "\r",
        "<Range (4.3) 0.0:10.0:0.1>"
       ]
      },
      {
       "output_type": "stream",
       "stream": "stdout",
       "text": [
        "\r",
        "<Range (6.4) 0.0:10.0:0.1>"
       ]
      },
      {
       "output_type": "stream",
       "stream": "stdout",
       "text": [
        "\r",
        "<Range (7.1) 0.0:10.0:0.1>"
       ]
      },
      {
       "output_type": "stream",
       "stream": "stdout",
       "text": [
        "\r",
        "<Range (7.0) 0.0:10.0:0.1>"
       ]
      },
      {
       "output_type": "stream",
       "stream": "stdout",
       "text": [
        "\r",
        "<Range (6.1) 0.0:10.0:0.1>"
       ]
      },
      {
       "output_type": "stream",
       "stream": "stdout",
       "text": [
        "\r",
        "<Range (5.8) 0.0:10.0:0.1>"
       ]
      },
      {
       "output_type": "stream",
       "stream": "stdout",
       "text": [
        "\r",
        "<Range (5.6) 0.0:10.0:0.1>"
       ]
      },
      {
       "output_type": "stream",
       "stream": "stdout",
       "text": [
        "\r",
        "<Range (5.3) 0.0:10.0:0.1>"
       ]
      },
      {
       "output_type": "stream",
       "stream": "stdout",
       "text": [
        "\r",
        "<Range (5.2) 0.0:10.0:0.1>"
       ]
      },
      {
       "output_type": "stream",
       "stream": "stdout",
       "text": [
        "\r",
        "<Range (4.9) 0.0:10.0:0.1>"
       ]
      },
      {
       "output_type": "stream",
       "stream": "stdout",
       "text": [
        "\r",
        "<Range (4.7) 0.0:10.0:0.1>"
       ]
      },
      {
       "output_type": "stream",
       "stream": "stdout",
       "text": [
        "\r",
        "<Range (4.6) 0.0:10.0:0.1>"
       ]
      },
      {
       "output_type": "stream",
       "stream": "stdout",
       "text": [
        "\r",
        "<Range (4.4) 0.0:10.0:0.1>"
       ]
      },
      {
       "output_type": "stream",
       "stream": "stdout",
       "text": [
        "\r",
        "<Range (4.2) 0.0:10.0:0.1>"
       ]
      },
      {
       "output_type": "stream",
       "stream": "stdout",
       "text": [
        "\r",
        "<Range (4.0) 0.0:10.0:0.1>"
       ]
      },
      {
       "output_type": "stream",
       "stream": "stdout",
       "text": [
        "\r",
        "<Range (3.8) 0.0:10.0:0.1>"
       ]
      },
      {
       "output_type": "stream",
       "stream": "stdout",
       "text": [
        "\r",
        "<Range (3.6) 0.0:10.0:0.1>"
       ]
      },
      {
       "output_type": "stream",
       "stream": "stdout",
       "text": [
        "\r",
        "<Range (3.5) 0.0:10.0:0.1>"
       ]
      },
      {
       "output_type": "stream",
       "stream": "stdout",
       "text": [
        "\r",
        "<Range (3.3) 0.0:10.0:0.1>"
       ]
      },
      {
       "output_type": "stream",
       "stream": "stdout",
       "text": [
        "\r",
        "<Range (3.2) 0.0:10.0:0.1>"
       ]
      },
      {
       "output_type": "stream",
       "stream": "stdout",
       "text": [
        "\r",
        "<Range (3.0) 0.0:10.0:0.1>"
       ]
      },
      {
       "output_type": "stream",
       "stream": "stdout",
       "text": [
        "\r",
        "<Range (2.9) 0.0:10.0:0.1>"
       ]
      },
      {
       "output_type": "stream",
       "stream": "stdout",
       "text": [
        "\r",
        "<Range (3.0) 0.0:10.0:0.1>"
       ]
      },
      {
       "output_type": "stream",
       "stream": "stdout",
       "text": [
        "\r",
        "<Range (3.3) 0.0:10.0:0.1>"
       ]
      },
      {
       "output_type": "stream",
       "stream": "stdout",
       "text": [
        "\r",
        "<Range (3.4) 0.0:10.0:0.1>"
       ]
      },
      {
       "output_type": "stream",
       "stream": "stdout",
       "text": [
        "\r",
        "<Range (3.7) 0.0:10.0:0.1>"
       ]
      },
      {
       "output_type": "stream",
       "stream": "stdout",
       "text": [
        "\r",
        "<Range (3.9) 0.0:10.0:0.1>"
       ]
      },
      {
       "output_type": "stream",
       "stream": "stdout",
       "text": [
        "\r",
        "<Range (4.0) 0.0:10.0:0.1>"
       ]
      },
      {
       "output_type": "stream",
       "stream": "stdout",
       "text": [
        "\r",
        "<Range (8.5) 0.0:10.0:0.1>"
       ]
      },
      {
       "output_type": "stream",
       "stream": "stdout",
       "text": [
        "\r",
        "<Range (2.0) 0.0:10.0:0.1>"
       ]
      },
      {
       "output_type": "stream",
       "stream": "stdout",
       "text": [
        "\r",
        "<Range (2.3) 0.0:10.0:0.1>"
       ]
      },
      {
       "output_type": "stream",
       "stream": "stdout",
       "text": [
        "\r",
        "<Range (2.7) 0.0:10.0:0.1>"
       ]
      },
      {
       "output_type": "stream",
       "stream": "stdout",
       "text": [
        "\r",
        "<Range (4.1) 0.0:10.0:0.1>"
       ]
      },
      {
       "output_type": "stream",
       "stream": "stdout",
       "text": [
        "\r",
        "<Range (4.5) 0.0:10.0:0.1>"
       ]
      },
      {
       "output_type": "stream",
       "stream": "stdout",
       "text": [
        "\r",
        "<Range (5.0) 0.0:10.0:0.1>"
       ]
      },
      {
       "output_type": "stream",
       "stream": "stdout",
       "text": [
        "\r",
        "<Range (5.7) 0.0:10.0:0.1>"
       ]
      },
      {
       "output_type": "stream",
       "stream": "stdout",
       "text": [
        "\r",
        "<Range (6.1) 0.0:10.0:0.1>"
       ]
      },
      {
       "output_type": "stream",
       "stream": "stdout",
       "text": [
        "\r",
        "<Range (6.2) 0.0:10.0:0.1>"
       ]
      },
      {
       "output_type": "stream",
       "stream": "stdout",
       "text": [
        "\r",
        "<Range (6.1) 0.0:10.0:0.1>"
       ]
      },
      {
       "output_type": "stream",
       "stream": "stdout",
       "text": [
        "\r",
        "<Range (6.0) 0.0:10.0:0.1>"
       ]
      },
      {
       "output_type": "stream",
       "stream": "stdout",
       "text": [
        "\r",
        "<Range (3.9) 0.0:10.0:0.1>"
       ]
      },
      {
       "output_type": "stream",
       "stream": "stdout",
       "text": [
        "\r",
        "<Range (2.8) 0.0:10.0:0.1>"
       ]
      },
      {
       "output_type": "stream",
       "stream": "stdout",
       "text": [
        "\r",
        "<Range (2.5) 0.0:10.0:0.1>"
       ]
      },
      {
       "output_type": "stream",
       "stream": "stdout",
       "text": [
        "\r",
        "<Range (2.4) 0.0:10.0:0.1>"
       ]
      },
      {
       "output_type": "stream",
       "stream": "stdout",
       "text": [
        "\r",
        "<Range (2.3) 0.0:10.0:0.1>"
       ]
      },
      {
       "output_type": "stream",
       "stream": "stdout",
       "text": [
        "\r",
        "<Range (2.2) 0.0:10.0:0.1>"
       ]
      },
      {
       "output_type": "stream",
       "stream": "stdout",
       "text": [
        "\r",
        "<Range (1.7) 0.0:10.0:0.1>"
       ]
      },
      {
       "output_type": "stream",
       "stream": "stdout",
       "text": [
        "\r",
        "<Range (1.6) 0.0:10.0:0.1>"
       ]
      }
     ],
     "prompt_number": 31
    },
    {
     "cell_type": "code",
     "collapsed": false,
     "input": [
      "sino.omega.max = 30\n",
      "sino.omega.step = 1"
     ],
     "language": "python",
     "metadata": {},
     "outputs": [
      {
       "output_type": "stream",
       "stream": "stdout",
       "text": [
        "\r",
        "<Range (12.0) 0.0:30.0:1.0>"
       ]
      },
      {
       "output_type": "stream",
       "stream": "stdout",
       "text": [
        "\r",
        "<Range (24.0) 0.0:30.0:1.0>"
       ]
      },
      {
       "output_type": "stream",
       "stream": "stdout",
       "text": [
        "\r",
        "<Range (4.0) 0.0:30.0:1.0>"
       ]
      }
     ],
     "prompt_number": 32
    },
    {
     "cell_type": "code",
     "collapsed": false,
     "input": [
      "sino.t = np.linspace(0,100,10)\n",
      "sino.show()"
     ],
     "language": "python",
     "metadata": {},
     "outputs": [
      {
       "output_type": "stream",
       "stream": "stdout",
       "text": [
        "\r",
        "<Range (5.0) 0.0:30.0:1.0>"
       ]
      },
      {
       "output_type": "stream",
       "stream": "stdout",
       "text": [
        "\r",
        "<Range (8.0) 0.0:30.0:1.0>"
       ]
      },
      {
       "output_type": "stream",
       "stream": "stdout",
       "text": [
        "\r",
        "<Range (9.0) 0.0:30.0:1.0>"
       ]
      },
      {
       "output_type": "stream",
       "stream": "stdout",
       "text": [
        "\r",
        "<Range (10.0) 0.0:30.0:1.0>"
       ]
      },
      {
       "output_type": "stream",
       "stream": "stdout",
       "text": [
        "\r",
        "<Range (11.0) 0.0:30.0:1.0>"
       ]
      },
      {
       "output_type": "stream",
       "stream": "stdout",
       "text": [
        "\r",
        "<Range (12.0) 0.0:30.0:1.0>"
       ]
      },
      {
       "output_type": "stream",
       "stream": "stdout",
       "text": [
        "\r",
        "<Range (13.0) 0.0:30.0:1.0>"
       ]
      },
      {
       "output_type": "stream",
       "stream": "stdout",
       "text": [
        "\r",
        "<Range (14.0) 0.0:30.0:1.0>"
       ]
      },
      {
       "output_type": "stream",
       "stream": "stdout",
       "text": [
        "\r",
        "<Range (16.0) 0.0:30.0:1.0>"
       ]
      },
      {
       "output_type": "stream",
       "stream": "stdout",
       "text": [
        "\r",
        "<Range (17.0) 0.0:30.0:1.0>"
       ]
      },
      {
       "output_type": "stream",
       "stream": "stdout",
       "text": [
        "\r",
        "<Range (18.0) 0.0:30.0:1.0>"
       ]
      },
      {
       "output_type": "stream",
       "stream": "stdout",
       "text": [
        "\r",
        "<Range (19.0) 0.0:30.0:1.0>"
       ]
      },
      {
       "output_type": "stream",
       "stream": "stdout",
       "text": [
        "\r",
        "<Range (20.0) 0.0:30.0:1.0>"
       ]
      }
     ],
     "prompt_number": 34
    },
    {
     "cell_type": "heading",
     "level": 1,
     "metadata": {},
     "source": [
      "Creating Python objects from Javascript"
     ]
    },
    {
     "cell_type": "markdown",
     "metadata": {},
     "source": [
      "This time, we expose an RPC object, using messages of the following form:\n",
      "\n",
      "```python\n",
      "{\n",
      "  'method' : 'the_method_name',\n",
      "  'args' : [list, of, args],\n",
      "  'kwargs' : { 'kwarg' : 'dict' },\n",
      "}\n",
      "```\n",
      "  "
     ]
    },
    {
     "cell_type": "code",
     "collapsed": false,
     "input": [
      "from IPython.kernel.comm import Comm\n",
      "from IPython.core.getipython import get_ipython\n",
      "import sys"
     ],
     "language": "python",
     "metadata": {},
     "outputs": [],
     "prompt_number": 33
    },
    {
     "cell_type": "code",
     "collapsed": false,
     "input": [
      "class RPC(object):\n",
      "    \"\"\"An object whose methods are exposed via RPC\"\"\"\n",
      "    \n",
      "    def __init__(self, comm):\n",
      "        self.comm = comm\n",
      "        self.comm.on_msg(self.handler)\n",
      "    \n",
      "    def add(self, a, b):\n",
      "        return a + b\n",
      "    \n",
      "    def mul(self, x, y):\n",
      "        return x * y\n",
      "    \n",
      "    def get_execution_count(self):\n",
      "        print >> sys.__stderr__, get_ipython().execution_count\n",
      "        return get_ipython().execution_count\n",
      "    \n",
      "    def handler(self, data):\n",
      "        \"\"\"this implements RPC\"\"\"\n",
      "        print >> sys.__stderr__, \"WHERE IS THE MESSAGE!\"\n",
      "        method = getattr(self, data['method'])\n",
      "        args = data.get('args', ())\n",
      "        kwargs = data.get('kwargs', {})\n",
      "        result = method(*args, **kwargs)\n",
      "        self.comm.send(dict(result=result, method=data['method']))\n",
      "\n",
      "get_ipython().comm_manager.register_target('rpc1', RPC)"
     ],
     "language": "python",
     "metadata": {},
     "outputs": [],
     "prompt_number": 56
    },
    {
     "cell_type": "code",
     "collapsed": false,
     "input": [
      "get_ipython().comm_manager.targets"
     ],
     "language": "python",
     "metadata": {},
     "outputs": [
      {
       "metadata": {},
       "output_type": "pyout",
       "prompt_number": 54,
       "text": [
        "{'rpc': __main__.RPC, 'rpc1': __main__.RPC}"
       ]
      }
     ],
     "prompt_number": 54
    },
    {
     "cell_type": "markdown",
     "metadata": {},
     "source": [
      "The RPCProxy lives in Javascript,\n",
      "and creates the Kernel-side counterpart.\n",
      "Results are posted to the notification area in the upper right."
     ]
    },
    {
     "cell_type": "code",
     "collapsed": false,
     "input": [
      "%%javascript\n",
      "var RPCProxy = function () {\n",
      "    console.log(this);\n",
      "    this.comm = new IPython.Comm(IPython.utils.uuid());\n",
      "    this.comm.target = 'rpc1';\n",
      "    $([this.comm]).on(\"comm_msg\", $.proxy(this.handler, this));\n",
      "    \n",
      "    IPython.notebook.kernel.comm_manager.register_comm(this.comm);\n",
      "    this.comm.open();\n",
      "    try {\n",
      "        this.notification = IPython.notification_area.get_widget('rpc');\n",
      "    } catch (e) {\n",
      "        this.notification = IPython.notification_area.new_notification_widget('rpc');\n",
      "    }\n",
      "};\n",
      "\n",
      "RPCProxy.prototype.handler = function (evt, data) {\n",
      "    console.log('rpc', data);\n",
      "    this.notification.set_message(JSON.stringify(data), 5000);\n",
      "}\n",
      "RPCProxy.prototype.add = function (a,b) {\n",
      "    this.comm.send({method : 'add', args : [a,b]});\n",
      "}\n",
      "RPCProxy.prototype.mul = function (a,b) {\n",
      "    this.comm.send({method : 'mul', args : [a,b]});\n",
      "}\n",
      "RPCProxy.prototype.get_ec = function () {\n",
      "    this.comm.send({method : 'get_execution_count'});\n",
      "}\n",
      "\n",
      "var rpc = new RPCProxy();\n",
      "rpc.add(5,3);\n",
      "setTimeout(function () { rpc.get_ec(); }, 2000);\n",
      "setTimeout(function () { rpc.mul(6,6); }, 4000);"
     ],
     "language": "python",
     "metadata": {},
     "outputs": [
      {
       "javascript": [
        "var RPCProxy = function () {\n",
        "    console.log(this);\n",
        "    this.comm = new IPython.Comm(IPython.utils.uuid());\n",
        "    this.comm.target = 'rpc1';\n",
        "    $([this.comm]).on(\"comm_msg\", $.proxy(this.handler, this));\n",
        "    \n",
        "    IPython.notebook.kernel.comm_manager.register_comm(this.comm);\n",
        "    this.comm.open();\n",
        "    try {\n",
        "        this.notification = IPython.notification_area.get_widget('rpc');\n",
        "    } catch (e) {\n",
        "        this.notification = IPython.notification_area.new_notification_widget('rpc');\n",
        "    }\n",
        "};\n",
        "\n",
        "RPCProxy.prototype.handler = function (evt, data) {\n",
        "    console.log('rpc', data);\n",
        "    this.notification.set_message(JSON.stringify(data), 5000);\n",
        "}\n",
        "RPCProxy.prototype.add = function (a,b) {\n",
        "    this.comm.send({method : 'add', args : [a,b]});\n",
        "}\n",
        "RPCProxy.prototype.mul = function (a,b) {\n",
        "    this.comm.send({method : 'mul', args : [a,b]});\n",
        "}\n",
        "RPCProxy.prototype.get_ec = function () {\n",
        "    this.comm.send({method : 'get_execution_count'});\n",
        "}\n",
        "\n",
        "var rpc = new RPCProxy();\n",
        "rpc.add(5,3);\n",
        "setTimeout(function () { rpc.get_ec(); }, 2000);\n",
        "setTimeout(function () { rpc.mul(6,6); }, 4000);"
       ],
       "metadata": {},
       "output_type": "display_data",
       "text": [
        "<IPython.core.display.Javascript at 0x3723690>"
       ]
      }
     ],
     "prompt_number": 57
    },
    {
     "cell_type": "code",
     "collapsed": false,
     "input": [
      "get_ipython().comm_manager.register_target?"
     ],
     "language": "python",
     "metadata": {},
     "outputs": [
      {
       "output_type": "stream",
       "stream": "stdout",
       "text": [
        "Object `comm_manager.register_target` not found.\n"
       ]
      }
     ],
     "prompt_number": 36
    },
    {
     "cell_type": "code",
     "collapsed": false,
     "input": [
      "get_ipython().execution_count"
     ],
     "language": "python",
     "metadata": {},
     "outputs": [
      {
       "metadata": {},
       "output_type": "pyout",
       "prompt_number": 48,
       "text": [
        "48"
       ]
      }
     ],
     "prompt_number": 48
    }
   ],
   "metadata": {}
  }
 ]
}