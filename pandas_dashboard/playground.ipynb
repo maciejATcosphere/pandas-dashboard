{
 "metadata": {
  "name": ""
 },
 "nbformat": 3,
 "nbformat_minor": 0,
 "worksheets": [
  {
   "cells": [
    {
     "cell_type": "code",
     "collapsed": false,
     "input": [
      "import pandas as pd\n",
      "from pandas import DataFrame\n",
      "import numpy as np"
     ],
     "language": "python",
     "metadata": {},
     "outputs": [],
     "prompt_number": 1
    },
    {
     "cell_type": "code",
     "collapsed": false,
     "input": [
      "DATA_SIZE = 1000\n",
      "raw_data = {\n",
      "    \"impressions\": np.random.randint(0, 10000, size=DATA_SIZE),\n",
      "    \"platform\": np.random.choice([\"IPhone\", \"Android\", \"IPad\", \"Desktop\"], \n",
      "        DATA_SIZE, p=[0.65, 0.2, 0.1, 0.05]),\n",
      "    \"installs\": np.random.randint(0, 1000, size=DATA_SIZE),\n",
      "    \"clicks\": np.random.randint(0, 10000, size=DATA_SIZE),\n",
      "    \"game\": np.random.choice([\"Lord of the Loo\", \"Catch Santa\", \"Hitchhiker\"], \n",
      "        DATA_SIZE, p=[0.1, 0.6, 0.3]),\n",
      "    \"type\": np.random.choice([\"direct\", \"not so direct\", \"door kicking\",\n",
      "            \"door knocking\", \"email sending\", \"letter sending\", \"pigeon sending\",\n",
      "            \"sending Ondrej\"], \n",
      "        DATA_SIZE, p=[0.2, 0.3, 0.05, 0.05, 0.05, 0.15, 0.1, 0.1]),\n",
      "    \"spend\": np.round(100 * np.random.random(size=DATA_SIZE), 2),\n",
      "}\n",
      "\n",
      "df = DataFrame(raw_data)\n",
      "df[\"CPI\"] = df[\"spend\"] / df[\"installs\"]"
     ],
     "language": "python",
     "metadata": {},
     "outputs": [],
     "prompt_number": 2
    },
    {
     "cell_type": "code",
     "collapsed": false,
     "input": [
      "df.head()"
     ],
     "language": "python",
     "metadata": {},
     "outputs": [
      {
       "html": [
        "<div style=\"max-height:1000px;max-width:1500px;overflow:auto;\">\n",
        "<table border=\"1\" class=\"dataframe\">\n",
        "  <thead>\n",
        "    <tr style=\"text-align: right;\">\n",
        "      <th></th>\n",
        "      <th>clicks</th>\n",
        "      <th>game</th>\n",
        "      <th>impressions</th>\n",
        "      <th>installs</th>\n",
        "      <th>platform</th>\n",
        "      <th>spend</th>\n",
        "      <th>type</th>\n",
        "      <th>CPI</th>\n",
        "    </tr>\n",
        "  </thead>\n",
        "  <tbody>\n",
        "    <tr>\n",
        "      <th>0</th>\n",
        "      <td> 5848</td>\n",
        "      <td> Catch Santa</td>\n",
        "      <td> 9096</td>\n",
        "      <td> 532</td>\n",
        "      <td> Android</td>\n",
        "      <td> 37.07</td>\n",
        "      <td> letter sending</td>\n",
        "      <td> 0.069680</td>\n",
        "    </tr>\n",
        "    <tr>\n",
        "      <th>1</th>\n",
        "      <td> 4437</td>\n",
        "      <td>  Hitchhiker</td>\n",
        "      <td> 3258</td>\n",
        "      <td> 974</td>\n",
        "      <td>  IPhone</td>\n",
        "      <td> 65.62</td>\n",
        "      <td> sending Ondrej</td>\n",
        "      <td> 0.067372</td>\n",
        "    </tr>\n",
        "    <tr>\n",
        "      <th>2</th>\n",
        "      <td> 8580</td>\n",
        "      <td>  Hitchhiker</td>\n",
        "      <td> 9049</td>\n",
        "      <td> 861</td>\n",
        "      <td>  IPhone</td>\n",
        "      <td> 70.79</td>\n",
        "      <td>  email sending</td>\n",
        "      <td> 0.082218</td>\n",
        "    </tr>\n",
        "    <tr>\n",
        "      <th>3</th>\n",
        "      <td> 9595</td>\n",
        "      <td> Catch Santa</td>\n",
        "      <td> 3975</td>\n",
        "      <td>  14</td>\n",
        "      <td> Android</td>\n",
        "      <td>  0.75</td>\n",
        "      <td>  not so direct</td>\n",
        "      <td> 0.053571</td>\n",
        "    </tr>\n",
        "    <tr>\n",
        "      <th>4</th>\n",
        "      <td> 2294</td>\n",
        "      <td>  Hitchhiker</td>\n",
        "      <td>  230</td>\n",
        "      <td> 842</td>\n",
        "      <td>    IPad</td>\n",
        "      <td> 57.51</td>\n",
        "      <td> sending Ondrej</td>\n",
        "      <td> 0.068302</td>\n",
        "    </tr>\n",
        "  </tbody>\n",
        "</table>\n",
        "</div>"
       ],
       "metadata": {},
       "output_type": "pyout",
       "prompt_number": 3,
       "text": [
        "   clicks         game  impressions  installs platform  spend            type  \\\n",
        "0    5848  Catch Santa         9096       532  Android  37.07  letter sending   \n",
        "1    4437   Hitchhiker         3258       974   IPhone  65.62  sending Ondrej   \n",
        "2    8580   Hitchhiker         9049       861   IPhone  70.79   email sending   \n",
        "3    9595  Catch Santa         3975        14  Android   0.75   not so direct   \n",
        "4    2294   Hitchhiker          230       842     IPad  57.51  sending Ondrej   \n",
        "\n",
        "        CPI  \n",
        "0  0.069680  \n",
        "1  0.067372  \n",
        "2  0.082218  \n",
        "3  0.053571  \n",
        "4  0.068302  "
       ]
      }
     ],
     "prompt_number": 3
    },
    {
     "cell_type": "code",
     "collapsed": false,
     "input": [
      "from IPython.display import *\n",
      "from IPython.kernel.comm import Comm\n",
      "import sys"
     ],
     "language": "python",
     "metadata": {},
     "outputs": [],
     "prompt_number": 27
    },
    {
     "cell_type": "code",
     "collapsed": false,
     "input": [
      "%%javascript\n",
      "var TestWidget = function (comm) {\n",
      "    this.comm = comm;\n",
      "    this.comm.on_msg($.proxy(this.handler, this));\n",
      "    // get the cell that was probably executed\n",
      "    // msg_id:cell mapping will make this possible without guessing\n",
      "    this.cell = IPython.notebook.get_cell(IPython.notebook.get_selected_index()-1);\n",
      "    this.callbacks = {\n",
      "        iopub : {\n",
      "            output : $.proxy(this.cell.output_area.handle_output, this.cell.output_area)\n",
      "        }\n",
      "    };\n",
      "};\n",
      "\n",
      "TestWidget.prototype.handler = function(msg) {\n",
      "    //console.log('handle', this, msg, this.cell.output_area);\n",
      "    console.log('handle', msg.content.data);\n",
      "    window.cell = this.cell.output_area;\n",
      "//     window.cell.selector.append('<h2>Heppy new year</h2>')\n",
      "    this.comm.send({ b:10 }, this.callbacks);\n",
      "};\n",
      "\n",
      "IPython.notebook.kernel.comm_manager.register_target('test', IPython.utils.always_new(TestWidget));"
     ],
     "language": "python",
     "metadata": {},
     "outputs": [
      {
       "javascript": [
        "\n",
        "var TestWidget = function (comm) {\n",
        "    this.comm = comm;\n",
        "    this.comm.on_msg($.proxy(this.handler, this));\n",
        "    // get the cell that was probably executed\n",
        "    // msg_id:cell mapping will make this possible without guessing\n",
        "    this.cell = IPython.notebook.get_cell(IPython.notebook.get_selected_index()-1);\n",
        "    this.callbacks = {\n",
        "        iopub : {\n",
        "            output : $.proxy(this.cell.output_area.handle_output, this.cell.output_area)\n",
        "        }\n",
        "    };\n",
        "};\n",
        "\n",
        "TestWidget.prototype.handler = function(msg) {\n",
        "    //console.log('handle', this, msg, this.cell.output_area);\n",
        "    console.log('handle', msg.content.data);\n",
        "    window.cell = this.cell.output_area;\n",
        "//     window.cell.selector.append('<h2>Heppy new year</h2>')\n",
        "    this.comm.send({ b:10 }, this.callbacks);\n",
        "};\n",
        "\n",
        "IPython.notebook.kernel.comm_manager.register_target('test', IPython.utils.always_new(TestWidget));"
       ],
       "metadata": {},
       "output_type": "display_data",
       "text": [
        "<IPython.core.display.Javascript at 0x30ce890>"
       ]
      }
     ],
     "prompt_number": 28
    },
    {
     "cell_type": "code",
     "collapsed": false,
     "input": [
      "comm = Comm(target_name='test')"
     ],
     "language": "python",
     "metadata": {},
     "outputs": [],
     "prompt_number": 9
    },
    {
     "cell_type": "code",
     "collapsed": false,
     "input": [
      "def handler(msg):\n",
      "    HTML(\"<h2>hello</h2>\")\n",
      "#     print >> sys.__stderr__, msg\n",
      "#     print msg\n",
      "\n",
      "comm.on_msg(handler)"
     ],
     "language": "python",
     "metadata": {},
     "outputs": [],
     "prompt_number": 22
    },
    {
     "cell_type": "code",
     "collapsed": false,
     "input": [
      "comm.send(dict(a=5))"
     ],
     "language": "python",
     "metadata": {},
     "outputs": [],
     "prompt_number": 23
    },
    {
     "cell_type": "code",
     "collapsed": false,
     "input": [
      "import json\n",
      "\n",
      "class Dashboard(object):\n",
      "    \n",
      "    def __init__(self, df):\n",
      "        self.df = df\n",
      "                        \n",
      "    def _repr_html_(self):\n",
      "        grouped = df.groupby('platform').count()\n",
      "        data_js =  self._get_data_for_series_js(grouped['CPI'])\n",
      "#         data_js =  self._get_data_for_series_js(df['spend'])\n",
      "#         print list(df['spend'].iteritems())[:10]\n",
      "        return \"\"\"\n",
      "            <div><svg id=\"{id}\"></svg></div>\n",
      "            <script type=\"text/javascript\">\n",
      "                bar({data}, \"{id}\");\n",
      "            </script>\n",
      "        \"\"\".format(data=data_js, id=\"area_chart\")\n",
      "\n",
      "    def _get_data_for_series_js(self, series):\n",
      "        data = list(series.iteritems())\n",
      "        return json.dumps(data)\n",
      "    \n",
      "Dashboard(df)"
     ],
     "language": "python",
     "metadata": {},
     "outputs": [
      {
       "html": [
        "\n",
        "            <div><svg id=\"area_chart\"></svg></div>\n",
        "            <script type=\"text/javascript\">\n",
        "                bar([[\"Android\", 214], [\"Desktop\", 47], [\"IPad\", 102], [\"IPhone\", 637]], \"area_chart\");\n",
        "            </script>\n",
        "        "
       ],
       "metadata": {},
       "output_type": "pyout",
       "prompt_number": 4,
       "text": [
        "<__main__.Dashboard at 0x23fc950>"
       ]
      }
     ],
     "prompt_number": 4
    },
    {
     "cell_type": "code",
     "collapsed": false,
     "input": [
      "LINE_CHART = 1\n",
      "PIE_CHART = 2\n",
      "BAR_CHART = 3\n",
      "\n",
      "PIE_CHART_THRESHOLD = 5\n",
      "BAR_CHART_THRESHOLD = 10\n",
      "\n",
      "def map_type(unique_count, type_):\n",
      "    if unique_count <= PIE_CHART_THRESHOLD:\n",
      "        return PIE_CHART\n",
      "    elif unique_count <= BAR_CHART_THRESHOLD:\n",
      "        return BAR_CHART\n",
      "    else:\n",
      "        return LINE_CHART\n",
      "\n",
      "charts = {}    \n",
      "for column, type_ in df.dtypes.iteritems():\n",
      "    unique_count = len(df[column].unique())\n",
      "    charts[column] = map_type(unique_count, type_)\n",
      "\n",
      "charts"
     ],
     "language": "python",
     "metadata": {
      "slideshow": {
       "slide_type": "slide"
      }
     },
     "outputs": [
      {
       "metadata": {},
       "output_type": "pyout",
       "prompt_number": 76,
       "text": [
        "{'CPI': 1,\n",
        " 'clicks': 1,\n",
        " 'game': 2,\n",
        " 'impressions': 1,\n",
        " 'installs': 1,\n",
        " 'platform': 2,\n",
        " 'spend': 1,\n",
        " 'type': 3}"
       ]
      }
     ],
     "prompt_number": 76
    },
    {
     "cell_type": "markdown",
     "metadata": {},
     "source": [
      "## Plotting rules:\n",
      "1. Find all categorial data and plot them as pie charts (value is count) or bar chart (value is count)\n",
      "2. Plot all numerical data as area chart (using sampling if necessary)\n"
     ]
    }
   ],
   "metadata": {}
  }
 ]
}